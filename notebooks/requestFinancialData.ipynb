{
 "cells": [
  {
   "cell_type": "markdown",
   "metadata": {},
   "source": [
    "# Alpha Vantage Real Time Financial Data Tracking"
   ]
  },
  {
   "cell_type": "markdown",
   "metadata": {},
   "source": [
    "Welcome to my notebook for trying out the Alpha Vantage API Financial Data Tracking. I have been an rather consistent follower of stocks and their prices (not an expert by any means, but enough for daily check-ins).\n",
    "\n",
    "Alpha Vantage's python client offers "
   ]
  },
  {
   "cell_type": "code",
   "execution_count": null,
   "metadata": {},
   "outputs": [],
   "source": [
    "# Real time tracking of stock data\n",
    "# Using the Alpha Vantage API \n",
    "# https://www.gridarrow.com/blog/realtime-stock-dashboard-using-alpha-vantage/\n",
    "# https://github.com/RomelTorres/alpha_vantage"
   ]
  },
  {
   "cell_type": "code",
   "execution_count": 1,
   "metadata": {},
   "outputs": [],
   "source": [
    "# Import required packages\n",
    "from alpha_vantage.timeseries import TimeSeries\n",
    "from alpha_vantage.techindicators import TechIndicators\n",
    "from alpha_vantage.sectorperformance import SectorPerformances\n",
    "from alpha_vantage.cryptocurrencies import CryptoCurrencies\n",
    "from alpha_vantage.foreignexchange import ForeignExchange\n",
    "import matplotlib as mpl\n",
    "mpl.use('TkAgg')\n",
    "import matplotlib.pyplot as plt"
   ]
  },
  {
   "cell_type": "code",
   "execution_count": 2,
   "metadata": {},
   "outputs": [],
   "source": [
    "# ----------------\n",
    "# Part One: Stock Price Data\n",
    "# ----------------\n",
    "\n",
    "retries = 5\n",
    "# Default datestring index behavior\n",
    "ts1 = TimeSeries(key = 'API_KEY', retries = retries, output_format = 'pandas', indexing_type = 'date')\n",
    "# Default integer index behavior\n",
    "ts2 = TimeSeries(key = 'API_KEY', retries = retries, output_format = 'pandas', indexing_type = 'integer')"
   ]
  },
  {
   "cell_type": "code",
   "execution_count": 3,
   "metadata": {},
   "outputs": [
    {
     "name": "stdout",
     "output_type": "stream",
     "text": [
      "                      1. open   2. high     3. low   4. close  5. volume\n",
      "date                                                                    \n",
      "2018-07-06 14:18:00  1155.105  1155.110  1154.7500  1154.7800      800.0\n",
      "2018-07-06 14:19:00  1154.710  1154.740  1154.4190  1154.5650      700.0\n",
      "2018-07-06 14:20:00  1154.550  1154.555  1154.1300  1154.3600     1358.0\n",
      "2018-07-06 14:21:00  1154.200  1154.465  1154.2000  1154.4650      500.0\n",
      "2018-07-06 14:22:00  1154.350  1154.400  1154.1825  1154.1825     1019.0\n",
      "                  date   1. open   2. high     3. low   4. close  5. volume\n",
      "0  2018-07-06 14:18:00  1155.105  1155.110  1154.7500  1154.7800      800.0\n",
      "1  2018-07-06 14:19:00  1154.710  1154.740  1154.4190  1154.5650      700.0\n",
      "2  2018-07-06 14:20:00  1154.550  1154.555  1154.1300  1154.3600     1358.0\n",
      "3  2018-07-06 14:21:00  1154.200  1154.465  1154.2000  1154.4650      500.0\n",
      "4  2018-07-06 14:22:00  1154.350  1154.400  1154.1825  1154.1825     1019.0\n"
     ]
    }
   ],
   "source": [
    "# Get JSON object with intraday data & another with call's metadata\n",
    "ticker = 'GOOGL'\n",
    "interval = '1min'\n",
    "data1, metadata1 = ts1.get_intraday(symbol = ticker, interval = interval)\n",
    "data2, metadata2 = ts2.get_intraday(symbol = ticker, interval = interval)\n",
    "\n",
    "print(data1.head())\n",
    "print(data2.head())"
   ]
  },
  {
   "cell_type": "code",
   "execution_count": null,
   "metadata": {},
   "outputs": [],
   "source": [
    "# Plot Opening Data\n",
    "data1['1. open'].plot()\n",
    "plt.title('Intraday Time Series for %s stock at (%s) intervals' % (ticker, interval))\n",
    "plt.show()"
   ]
  },
  {
   "cell_type": "code",
   "execution_count": null,
   "metadata": {},
   "outputs": [],
   "source": [
    "# Plot High Data\n",
    "data1['2. high'].plot()\n",
    "plt.title('Intraday Time Series for %s stock at (%s) intervals' % (ticker, interval))\n",
    "plt.show()"
   ]
  },
  {
   "cell_type": "code",
   "execution_count": null,
   "metadata": {},
   "outputs": [],
   "source": [
    "# Plot Low Data\n",
    "data1['3. low'].plot()\n",
    "plt.title('Intraday Time Series for %s stock at (%s) intervals' % (ticker, interval))\n",
    "plt.show()"
   ]
  },
  {
   "cell_type": "code",
   "execution_count": null,
   "metadata": {},
   "outputs": [],
   "source": [
    "# Plot Close Data\n",
    "data1['4. close'].plot()\n",
    "plt.title('Intraday Time Series for %s stock at (%s) intervals' % (ticker, interval))\n",
    "plt.show()"
   ]
  },
  {
   "cell_type": "code",
   "execution_count": null,
   "metadata": {},
   "outputs": [],
   "source": [
    "# Plot Volume Data\n",
    "data1['5. volume'].plot()\n",
    "plt.title('Intraday Time Series for %s stock at (%s) intervals' % (ticker, interval))\n",
    "plt.show()"
   ]
  },
  {
   "cell_type": "code",
   "execution_count": null,
   "metadata": {},
   "outputs": [],
   "source": [
    "# ------------------------------\n",
    "# Part Two: Technical Indicators\n",
    "# ------------------------------\n",
    "\n",
    "ti = TechIndicators(key = 'API_KEY', output_format = 'pandas')\n",
    "interval = '60min'\n",
    "data, metadata = ti.get_bbands(symbol = ticker, interval = interval, time_period = 60)\n",
    "data.plot()\n",
    "plt.title('BBands indicator for %s stock, at %s interval' % (ticker, interval))\n",
    "plt.show()"
   ]
  },
  {
   "cell_type": "code",
   "execution_count": null,
   "metadata": {},
   "outputs": [],
   "source": [
    "# ------------------------------\n",
    "# Part Three: Sector Performance\n",
    "# ------------------------------\n",
    "\n",
    "sp = SectorPerformances(key = 'API_KEY', output_format = 'pandas')\n",
    "data, metadata = sp.get_sector()\n",
    "data['Rank A: Real-Time Performance'].plot(kind = 'bar')\n",
    "plt.title('Real Time Performance (%) per Sector')\n",
    "plt.tight_layout()\n",
    "plt.grid()\n",
    "plt.show()"
   ]
  },
  {
   "cell_type": "code",
   "execution_count": null,
   "metadata": {},
   "outputs": [],
   "source": [
    "# ---------------------------\n",
    "# Part Four: Cryptocurrencies\n",
    "# ---------------------------\n",
    "ticker = 'BTC'\n",
    "cc = CryptoCurrencies(key = 'API_KEY', output_format = 'pandas')\n",
    "data, metadata = cc.get_digital_currency_intraday(symbol = ticker, market = 'CNY')\n",
    "data['1b. price (USD)'].plot()\n",
    "plt.tight_layout()\n",
    "plt.title('Intraday value for bitcoin (BTC)')\n",
    "plt.grid()\n",
    "plt.show()"
   ]
  },
  {
   "cell_type": "code",
   "execution_count": null,
   "metadata": {},
   "outputs": [],
   "source": [
    "# --------------------------------\n",
    "# Part Five: Foreign Exchange (FX)\n",
    "# --------------------------------\n",
    "fe = ForeignExchange(key = 'API_KEY')\n",
    "# No metadata here\n",
    "data, _ = fe.get_currency_exchange_rate(from_currency = 'BTC', to_currency = 'USD')\n",
    "pprint(data)"
   ]
  }
 ],
 "metadata": {
  "kernelspec": {
   "display_name": "Python 3",
   "language": "python",
   "name": "python3"
  },
  "language_info": {
   "codemirror_mode": {
    "name": "ipython",
    "version": 3
   },
   "file_extension": ".py",
   "mimetype": "text/x-python",
   "name": "python",
   "nbconvert_exporter": "python",
   "pygments_lexer": "ipython3",
   "version": "3.6.4"
  }
 },
 "nbformat": 4,
 "nbformat_minor": 2
}
